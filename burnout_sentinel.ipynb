{
 "cells": [
  {
   "cell_type": "markdown",
   "metadata": {},
   "source": [
    "# Installing Dependencies"
   ]
  },
  {
   "cell_type": "code",
   "execution_count": 36,
   "metadata": {},
   "outputs": [
    {
     "name": "stdout",
     "output_type": "stream",
     "text": [
      "Note: you may need to restart the kernel to use updated packages.\n"
     ]
    },
    {
     "name": "stderr",
     "output_type": "stream",
     "text": [
      "DEPRECATION: Loading egg at e:\\swe\\python3.11.5\\lib\\site-packages\\vboxapi-1.0-py3.11.egg is deprecated. pip 24.3 will enforce this behaviour change. A possible replacement is to use pip for package installation.. Discussion can be found at https://github.com/pypa/pip/issues/12330\n"
     ]
    }
   ],
   "source": [
    "pip -q install ruptures scikit-learn tqdm"
   ]
  },
  {
   "cell_type": "code",
   "execution_count": 72,
   "metadata": {},
   "outputs": [],
   "source": [
    "import os\n",
    "from datetime import date, datetime, timedelta\n",
    "\n",
    "import numpy as np\n",
    "import pandas as pd\n",
    "import matplotlib.pyplot as plt\n",
    "\n",
    "from scipy.stats import kurtosis, skew\n",
    "from scipy.signal import find_peaks\n",
    "\n",
    "from sklearn.preprocessing import MinMaxScaler, OneHotEncoder\n",
    "from sklearn.model_selection import train_test_split\n",
    "from sklearn.feature_selection import SelectFromModel\n",
    "from sklearn.naive_bayes import GaussianNB\n",
    "from sklearn.ensemble import RandomForestClassifier\n",
    "from sklearn.ensemble import RandomForestRegressor\n",
    "from sklearn.metrics import accuracy_score, f1_score, precision_score, recall_score, classification_report, confusion_matrix\n",
    "\n",
    "import ruptures as rpt\n",
    "\n",
    "from tqdm import tqdm\n",
    "tqdm.pandas()"
   ]
  },
  {
   "cell_type": "markdown",
   "metadata": {},
   "source": [
    "# Data Loading"
   ]
  },
  {
   "cell_type": "code",
   "execution_count": 38,
   "metadata": {},
   "outputs": [],
   "source": [
    "dataset = 'DF'"
   ]
  },
  {
   "cell_type": "code",
   "execution_count": 39,
   "metadata": {},
   "outputs": [],
   "source": [
    "rightEDAdatapath  = f'{dataset}/EDA.csv'\n",
    "rightHRdatapath   = f'{dataset}/HR.csv'\n",
    "rightTEMPdatapath = f'{dataset}/TEMP.csv'"
   ]
  },
  {
   "cell_type": "markdown",
   "metadata": {},
   "source": [
    "### HR Data Processing\n",
    "\n",
    "- HR data relatively less than EDA and TEMP so data is repeated 4 times to have similar amount of data as the other readings"
   ]
  },
  {
   "cell_type": "code",
   "execution_count": 40,
   "metadata": {},
   "outputs": [],
   "source": [
    "rightHRdatapath = np.loadtxt(rightHRdatapath, delimiter = ',')\n",
    "rightHRdatapath = np.repeat(rightHRdatapath, 4)\n",
    "np.savetxt('hr_new.csv', rightHRdatapath, delimiter = ',')"
   ]
  },
  {
   "cell_type": "markdown",
   "metadata": {},
   "source": [
    "### Loading Details\n",
    "\n",
    "- EDA: ignoring the first 2 rows for EDA since 1st row indicates start time of session and 2nd row indicates sample rate in Hz\n",
    "- HR: ignores the first 12 rows since heart rate stabilizes after a few readings\n",
    "- TEMP: ignores first 2 rows for the same reason as EDA"
   ]
  },
  {
   "cell_type": "code",
   "execution_count": 41,
   "metadata": {},
   "outputs": [],
   "source": [
    "edat =  pd.read_csv(f'{dataset}/EDA.csv',  header = 2,  names = ['EDA'])\n",
    "hrt =   pd.read_csv(f'hr_new.csv',      header = 12, names = ['HR'])\n",
    "tempt = pd.read_csv(f'{dataset}/TEMP.csv', header = 2,  names = ['TEMP'])"
   ]
  },
  {
   "cell_type": "code",
   "execution_count": 42,
   "metadata": {},
   "outputs": [],
   "source": [
    "# contains the session time, no data\n",
    "gt =    pd.read_csv(f'{dataset}/EDA.csv',  nrows  = 1)"
   ]
  },
  {
   "cell_type": "code",
   "execution_count": 43,
   "metadata": {},
   "outputs": [
    {
     "name": "stdout",
     "output_type": "stream",
     "text": [
      "22979 22935 22979 1\n"
     ]
    }
   ],
   "source": [
    "print(len(edat), len(hrt), len(tempt), len(gt))"
   ]
  },
  {
   "cell_type": "markdown",
   "metadata": {},
   "source": [
    "### Label Loading"
   ]
  },
  {
   "cell_type": "code",
   "execution_count": 44,
   "metadata": {},
   "outputs": [],
   "source": [
    "label = pd.read_csv(f'{dataset}/SM_Drv13.csv',  header = 1,  names = ['STRESS'])\n",
    "label = label.iloc[20:]\n",
    "\n",
    "# Resetting the index after removing rows\n",
    "label.reset_index(drop=True, inplace=True)"
   ]
  },
  {
   "cell_type": "code",
   "execution_count": 45,
   "metadata": {},
   "outputs": [
    {
     "name": "stdout",
     "output_type": "stream",
     "text": [
      "22944\n"
     ]
    }
   ],
   "source": [
    "print(len(label))"
   ]
  },
  {
   "cell_type": "code",
   "execution_count": 46,
   "metadata": {},
   "outputs": [],
   "source": [
    "reference_time = gt.iloc[0,0]"
   ]
  },
  {
   "cell_type": "code",
   "execution_count": 47,
   "metadata": {},
   "outputs": [],
   "source": [
    "min_len = min(len(edat), len(hrt), len(tempt), len(label))\n",
    "\n",
    "# first min_len rows of the column '0' taken from each data frame\n",
    "eda = edat.iloc[:min_len, 0]\n",
    "hrt = hrt.iloc[:min_len, 0]\n",
    "tempt = tempt.iloc[:min_len, 0]\n",
    "label = label.iloc[:min_len, 0]\n",
    "\n",
    "# all data combined column wise to make another data frame\n",
    "df_original = pd.concat([eda, hrt, tempt, label], axis = 1)"
   ]
  },
  {
   "cell_type": "code",
   "execution_count": 48,
   "metadata": {},
   "outputs": [
    {
     "name": "stdout",
     "output_type": "stream",
     "text": [
      "(22935, 4)\n"
     ]
    }
   ],
   "source": [
    "print(df_original.shape)"
   ]
  },
  {
   "cell_type": "markdown",
   "metadata": {},
   "source": [
    "## Pre-processing"
   ]
  },
  {
   "cell_type": "markdown",
   "metadata": {},
   "source": [
    "### Feature Extraction"
   ]
  },
  {
   "cell_type": "code",
   "execution_count": 49,
   "metadata": {},
   "outputs": [],
   "source": [
    "def statistical_features(arr):\n",
    "    vmin = np.amin(arr)\n",
    "    vmax = np.amax(arr)\n",
    "    mean = np.mean(arr)\n",
    "    std = np.std(arr)\n",
    "    return vmin, vmax, mean, std\n",
    "\n",
    "def shape_features(arr):\n",
    "    skewness = skew(arr)\n",
    "    kurt = kurtosis(arr)\n",
    "    return skewness, kurt\n",
    "\n",
    "def calculate_rms(signal):\n",
    "    diff_squared = np.square(np.ediff1d(signal))\n",
    "    rms_value = np.sqrt(np.mean(diff_squared))\n",
    "    return rms_value"
   ]
  },
  {
   "cell_type": "markdown",
   "metadata": {},
   "source": [
    "### Extended Features\n",
    "\n",
    "- iterating with a step size of 20\n",
    "- taking 40 rows at a time to generate a single row of df_features\n",
    "- find_peaks() : identify peaks in the EDA signal (eda) using the function and then count the number of detected peaks using len() function"
   ]
  },
  {
   "cell_type": "code",
   "execution_count": 52,
   "metadata": {},
   "outputs": [],
   "source": [
    "def extract_features(data):\n",
    "    cols = [\n",
    "        'EDA_Mean', 'EDA_Min', 'EDA_Max', 'EDA_Std', 'EDA_Kurtosis', 'EDA_Skew', 'EDA_Num_Peaks', 'EDA_Amplitude', 'EDA_Duration',\n",
    "        'HR_Mean', 'HR_Min', 'HR_Max', 'HR_Std', 'HR_RMS', 'TEMP_Mean', 'TEMP_Min', 'TEMP_Max', 'TEMP_Std', 'STRESS'\n",
    "    ]\n",
    "\n",
    "    df_features = pd.DataFrame(columns=cols)\n",
    "    index = 0\n",
    "\n",
    "    for i in tqdm(range(0, len(data['EDA']), 20), desc=\"Processing rows\", leave=True):\n",
    "        df_partial = data.iloc[i:i+40,]\n",
    "        plen = len(df_partial['EDA'])\n",
    "\n",
    "        if plen < 40:\n",
    "            continue\n",
    "\n",
    "        eda = df_partial['EDA'].values\n",
    "        hr = df_partial['HR'].values\n",
    "        temp = df_partial['TEMP'].values\n",
    "        stress = df_partial['STRESS'].values\n",
    "\n",
    "        eda_min, eda_max, eda_mean, eda_std = statistical_features(eda)\n",
    "        hr_min, hr_max, hr_mean, hr_std = statistical_features(hr)\n",
    "        temp_min, temp_max, temp_mean, temp_std = statistical_features(temp)\n",
    "        stress_min, stress_max, stress_mean, stress_std = statistical_features(stress)\n",
    "        eda_skew, eda_kurtosis = shape_features(eda)\n",
    "\n",
    "        hr_rms = calculate_rms(hr)\n",
    "        temp_rms = calculate_rms(temp)\n",
    "\n",
    "        peaks, properties = find_peaks(eda, width=5)\n",
    "        num_Peaks = len(peaks)\n",
    "\n",
    "        prominences = np.array(properties['prominences'])\n",
    "        widths = np.array(properties['widths'])\n",
    "        amplitude = np.sum(prominences)\n",
    "        duration = np.sum(widths)\n",
    "\n",
    "        df_features.loc[index] = [eda_mean, eda_min, eda_max, eda_std, eda_kurtosis, eda_skew, num_Peaks, amplitude,\n",
    "                                  duration, hr_mean, hr_min, hr_max, hr_std, hr_rms, temp_mean, temp_min, temp_max, temp_std, stress_mean]\n",
    "\n",
    "        index = index + 1\n",
    "\n",
    "    return df_features"
   ]
  },
  {
   "cell_type": "code",
   "execution_count": 53,
   "metadata": {},
   "outputs": [
    {
     "name": "stderr",
     "output_type": "stream",
     "text": [
      "Processing rows: 100%|██████████| 1147/1147 [00:02<00:00, 417.64it/s]\n"
     ]
    }
   ],
   "source": [
    "df_features = extract_features(df_original)"
   ]
  },
  {
   "cell_type": "code",
   "execution_count": 54,
   "metadata": {},
   "outputs": [
    {
     "name": "stdout",
     "output_type": "stream",
     "text": [
      "Index(['EDA_Mean', 'EDA_Min', 'EDA_Max', 'EDA_Std', 'EDA_Kurtosis', 'EDA_Skew',\n",
      "       'EDA_Num_Peaks', 'EDA_Amplitude', 'EDA_Duration', 'HR_Mean', 'HR_Min',\n",
      "       'HR_Max', 'HR_Std', 'HR_RMS', 'TEMP_Mean', 'TEMP_Min', 'TEMP_Max',\n",
      "       'TEMP_Std', 'STRESS'],\n",
      "      dtype='object')\n"
     ]
    }
   ],
   "source": [
    "print(df_features.columns)"
   ]
  },
  {
   "cell_type": "code",
   "execution_count": 55,
   "metadata": {},
   "outputs": [
    {
     "name": "stdout",
     "output_type": "stream",
     "text": [
      "(1145, 19)\n"
     ]
    }
   ],
   "source": [
    "print(df_features.shape)"
   ]
  },
  {
   "cell_type": "markdown",
   "metadata": {},
   "source": [
    "### Lag Features"
   ]
  },
  {
   "cell_type": "code",
   "execution_count": 56,
   "metadata": {},
   "outputs": [],
   "source": [
    "def generate_lag_features(input_df, columns, lags):\n",
    "    cols = list(map(str, range(len(columns) * len(lags), 0, -1)))\n",
    "    lag_df = pd.DataFrame(columns=cols)\n",
    "\n",
    "    index = len(columns) * len(lags)\n",
    "\n",
    "    for col in tqdm(columns, desc=\"Generating lag features\", leave=True):\n",
    "        for lag in tqdm(lags, desc=f\"Lag features for {col}\", leave=True):\n",
    "            lagged_column = f'{index}'\n",
    "            lag_df[lagged_column] = input_df[col].shift(lag)\n",
    "            index -= 1\n",
    "\n",
    "    # lag_df = lag_df.dropna()\n",
    "\n",
    "    return lag_df"
   ]
  },
  {
   "cell_type": "code",
   "execution_count": 57,
   "metadata": {},
   "outputs": [
    {
     "name": "stderr",
     "output_type": "stream",
     "text": [
      "Lag features for HR_Mean: 100%|██████████| 10/10 [00:00<00:00, 710.67it/s]\n",
      "Lag features for TEMP_Mean: 100%|██████████| 10/10 [00:00<00:00, 1064.11it/s]\n",
      "Lag features for EDA_Mean: 100%|██████████| 10/10 [00:00<00:00, 1666.52it/s]\n",
      "Generating lag features: 100%|██████████| 3/3 [00:00<00:00, 54.16it/s]\n"
     ]
    }
   ],
   "source": [
    "cols = ['HR_Mean', 'TEMP_Mean', 'EDA_Mean']\n",
    "lags = [10, 9, 8, 7, 6, 5, 4, 3, 2, 1]\n",
    "\n",
    "df_lag_features = generate_lag_features(df_features, cols, lags)"
   ]
  },
  {
   "cell_type": "code",
   "execution_count": 58,
   "metadata": {},
   "outputs": [
    {
     "name": "stdout",
     "output_type": "stream",
     "text": [
      "(1145, 30)\n"
     ]
    }
   ],
   "source": [
    "print(df_lag_features.shape)"
   ]
  },
  {
   "cell_type": "code",
   "execution_count": 59,
   "metadata": {},
   "outputs": [],
   "source": [
    "df_total = pd.concat([df_lag_features, df_features], axis=1)"
   ]
  },
  {
   "cell_type": "code",
   "execution_count": 60,
   "metadata": {},
   "outputs": [
    {
     "name": "stdout",
     "output_type": "stream",
     "text": [
      "(1145, 49)\n"
     ]
    }
   ],
   "source": [
    "print(df_total.shape)"
   ]
  },
  {
   "cell_type": "markdown",
   "metadata": {},
   "source": [
    "### Feature and Label Scaling"
   ]
  },
  {
   "cell_type": "code",
   "execution_count": 61,
   "metadata": {},
   "outputs": [],
   "source": [
    "def scale_features(df_total, feature_columns):\n",
    "    scaled_df = df_total.copy()\n",
    "    scaler = MinMaxScaler()\n",
    "    scaled_df[feature_columns] = scaler.fit_transform(scaled_df[feature_columns])\n",
    "    scaled_df = scaled_df.fillna(0)\n",
    "    return scaled_df"
   ]
  },
  {
   "cell_type": "code",
   "execution_count": 66,
   "metadata": {},
   "outputs": [],
   "source": [
    "def scale_label(df_total, label_column, target_range=(0, 10)):\n",
    "    label_to_scale = df_total[label_column].values.reshape(-1, 1)\n",
    "    scaler = MinMaxScaler(feature_range=target_range)\n",
    "    scaled_label = scaler.fit_transform(label_to_scale)\n",
    "    df_total[label_column] = scaled_label.flatten()\n",
    "    return df_total"
   ]
  },
  {
   "cell_type": "code",
   "execution_count": 68,
   "metadata": {},
   "outputs": [],
   "source": [
    "feature_cols = df_total.columns[:48]\n",
    "df_total_scaled = scale_features(df_total, feature_cols)\n",
    "df_total_scaled = scale_label(df_total_scaled, 'STRESS', target_range=(0, 10))"
   ]
  },
  {
   "cell_type": "markdown",
   "metadata": {},
   "source": [
    "Final CSV File for Training"
   ]
  },
  {
   "cell_type": "code",
   "execution_count": 69,
   "metadata": {},
   "outputs": [],
   "source": [
    "df_total_scaled.to_csv('scaled_df_total.csv', index=False)"
   ]
  },
  {
   "cell_type": "markdown",
   "metadata": {},
   "source": [
    "# Stress detection model"
   ]
  },
  {
   "cell_type": "code",
   "execution_count": 80,
   "metadata": {},
   "outputs": [
    {
     "name": "stdout",
     "output_type": "stream",
     "text": [
      "(1145, 49)\n",
      "Accuracy-like Metric: 0.291005291005291\n"
     ]
    }
   ],
   "source": [
    "df_lag = pd.read_csv('scaled_df_total.csv')\n",
    "print(df_lag.shape)\n",
    "train_set = df_lag.iloc[:,0:48]\n",
    "labels = df_lag.iloc[:,48:49]\n",
    "\n",
    "#Create a random forest Classifier\n",
    "clf = RandomForestRegressor(n_estimators=100,max_depth=15)\n",
    "\n",
    "# Split our data\n",
    "train, test, train_labels, test_labels = train_test_split(train_set, labels, test_size=0.33, random_state=30)\n",
    "\n",
    "#Train the model using the training sets y_pred=clf.predict(X_test)\n",
    "clf.fit(train, train_labels.values.ravel())\n",
    "\n",
    "\n",
    "\n",
    "y_pred = clf.predict(test)\n",
    "\n",
    "threshold = 0.5  # Define your tolerance level\n",
    "\n",
    "# Count the number of predictions within the tolerance\n",
    "correct_predictions = np.sum(np.abs(test_labels.values.ravel() - y_pred) <= threshold)\n",
    "\n",
    "# Calculate the accuracy-like metric\n",
    "accuracy_like_metric = correct_predictions / len(test_labels)\n",
    "\n",
    "print('Accuracy-like Metric:', accuracy_like_metric)\n",
    "\n",
    "# f1score   = f1_score        (test_labels, y_pred, average = 'macro')\n",
    "# recall    = recall_score    (test_labels, y_pred, average = 'macro')\n",
    "# precision = precision_score (test_labels, y_pred, average = 'macro')\n",
    "# accuracy  = accuracy_score  (test_labels, y_pred)\n",
    "\n",
    "# print('acc =', accuracy)\n",
    "# print('pre =', precision)\n",
    "# print('recall =', recall) \n",
    "# print('f1 =', f1score)"
   ]
  },
  {
   "cell_type": "markdown",
   "metadata": {},
   "source": [
    "### Predicting the stress"
   ]
  },
  {
   "cell_type": "code",
   "execution_count": 28,
   "metadata": {},
   "outputs": [
    {
     "name": "stderr",
     "output_type": "stream",
     "text": [
      "C:\\Users\\Maria\\AppData\\Roaming\\Python\\Python311\\site-packages\\sklearn\\base.py:465: UserWarning: X does not have valid feature names, but RandomForestClassifier was fitted with feature names\n",
      "  warnings.warn(\n"
     ]
    },
    {
     "ename": "NameError",
     "evalue": "name 'user' is not defined",
     "output_type": "error",
     "traceback": [
      "\u001b[1;31m---------------------------------------------------------------------------\u001b[0m",
      "\u001b[1;31mNameError\u001b[0m                                 Traceback (most recent call last)",
      "Cell \u001b[1;32mIn[28], line 11\u001b[0m\n\u001b[0;32m      9\u001b[0m pred_t\u001b[38;5;241m.\u001b[39mcolumns\u001b[38;5;241m=\u001b[39m[\u001b[38;5;124m'\u001b[39m\u001b[38;5;124mpred\u001b[39m\u001b[38;5;124m'\u001b[39m]\n\u001b[0;32m     10\u001b[0m pred_t\u001b[38;5;241m.\u001b[39mhead(\u001b[38;5;241m30\u001b[39m)\n\u001b[1;32m---> 11\u001b[0m pred_t\u001b[38;5;241m.\u001b[39mto_csv(\u001b[38;5;124m'\u001b[39m\u001b[38;5;124mpred\u001b[39m\u001b[38;5;124m'\u001b[39m\u001b[38;5;241m+\u001b[39m\u001b[43muser\u001b[49m\u001b[38;5;241m+\u001b[39m\u001b[38;5;124m'\u001b[39m\u001b[38;5;124m.csv\u001b[39m\u001b[38;5;124m'\u001b[39m)\n",
      "\u001b[1;31mNameError\u001b[0m: name 'user' is not defined"
     ]
    }
   ],
   "source": [
    "df_total = df_total.dropna()\n",
    "scalar = MinMaxScaler()\n",
    "x_scaled = scalar.fit_transform(df_total.iloc[:,0:48])\n",
    "data = pd.DataFrame(x_scaled)\n",
    "data = data.fillna(0)\n",
    "\n",
    "pred_t = clf.predict(data)\n",
    "pred_t = pd.DataFrame(pred_t)\n",
    "pred_t.columns=['pred']\n",
    "pred_t.head(30)\n",
    "pred_t.to_csv('pred'+user+'.csv')"
   ]
  },
  {
   "cell_type": "code",
   "execution_count": null,
   "metadata": {},
   "outputs": [],
   "source": [
    "df_total['pred'] = pred_t\n",
    "df_total.to_csv('pred{user}.csv')"
   ]
  },
  {
   "cell_type": "code",
   "execution_count": null,
   "metadata": {},
   "outputs": [],
   "source": [
    "df_total['MA_3'] = np.ceil(df_total.iloc[:,48:49].rolling(window=31).mean())"
   ]
  },
  {
   "cell_type": "markdown",
   "metadata": {},
   "source": [
    "### Change detection"
   ]
  },
  {
   "cell_type": "code",
   "execution_count": null,
   "metadata": {
    "scrolled": true
   },
   "outputs": [
    {
     "data": {
      "image/png": "[encoded data removed]",
      "text/plain": [
       "<Figure size 1600x600 with 1 Axes>"
      ]
     },
     "metadata": {},
     "output_type": "display_data"
    },
    {
     "name": "stdout",
     "output_type": "stream",
     "text": [
      "[0, 310, 335, 560, 615, 855, 905, 975, 995, 1050, 1070, 1115]\n"
     ]
    }
   ],
   "source": [
    "signal = df_total.iloc[:,49:50].values\n",
    "\n",
    "algo = rpt.Window(model=\"l2\", width=10).fit(signal)\n",
    "result = algo.predict(n_bkps=60)\n",
    "\n",
    "rpt.display(signal, result, figsize=(16, 6))\n",
    "plt.title('Change Point Detection: Pelt Search Method')\n",
    "plt.show()\n",
    "\n",
    "result.insert(0, 0)\n",
    "print(result)"
   ]
  },
  {
   "cell_type": "markdown",
   "metadata": {},
   "source": [
    "### Generating the event by start and end epoch_times"
   ]
  },
  {
   "cell_type": "code",
   "execution_count": null,
   "metadata": {},
   "outputs": [
    {
     "name": "stderr",
     "output_type": "stream",
     "text": [
      "C:\\Users\\Maria\\AppData\\Local\\Temp\\ipykernel_13080\\2647975276.py:7: FutureWarning: Series.__getitem__ treating keys as positions is deprecated. In a future version, integer keys will always be treated as labels (consistent with DataFrame behavior). To access a value by position, use `ser.iloc[pos]`\n",
      "  temp = df_total.iloc[result[i]:(result[i+1]-1), 49:50].mean()[0]\n"
     ]
    },
    {
     "data": {
      "text/html": [
       "<div>\n",
       "<style scoped>\n",
       "    .dataframe tbody tr th:only-of-type {\n",
       "        vertical-align: middle;\n",
       "    }\n",
       "\n",
       "    .dataframe tbody tr th {\n",
       "        vertical-align: top;\n",
       "    }\n",
       "\n",
       "    .dataframe thead th {\n",
       "        text-align: right;\n",
       "    }\n",
       "</style>\n",
       "<table border=\"1\" class=\"dataframe\">\n",
       "  <thead>\n",
       "    <tr style=\"text-align: right;\">\n",
       "      <th></th>\n",
       "      <th>start</th>\n",
       "      <th>end</th>\n",
       "      <th>stress</th>\n",
       "    </tr>\n",
       "  </thead>\n",
       "  <tbody>\n",
       "    <tr>\n",
       "      <th>0</th>\n",
       "      <td>0.0</td>\n",
       "      <td>310.0</td>\n",
       "      <td>0.0</td>\n",
       "    </tr>\n",
       "    <tr>\n",
       "      <th>1</th>\n",
       "      <td>310.0</td>\n",
       "      <td>335.0</td>\n",
       "      <td>1.0</td>\n",
       "    </tr>\n",
       "    <tr>\n",
       "      <th>2</th>\n",
       "      <td>335.0</td>\n",
       "      <td>560.0</td>\n",
       "      <td>2.0</td>\n",
       "    </tr>\n",
       "    <tr>\n",
       "      <th>3</th>\n",
       "      <td>560.0</td>\n",
       "      <td>615.0</td>\n",
       "      <td>1.0</td>\n",
       "    </tr>\n",
       "    <tr>\n",
       "      <th>4</th>\n",
       "      <td>615.0</td>\n",
       "      <td>855.0</td>\n",
       "      <td>0.0</td>\n",
       "    </tr>\n",
       "    <tr>\n",
       "      <th>5</th>\n",
       "      <td>855.0</td>\n",
       "      <td>905.0</td>\n",
       "      <td>1.0</td>\n",
       "    </tr>\n",
       "    <tr>\n",
       "      <th>6</th>\n",
       "      <td>905.0</td>\n",
       "      <td>975.0</td>\n",
       "      <td>0.0</td>\n",
       "    </tr>\n",
       "    <tr>\n",
       "      <th>7</th>\n",
       "      <td>975.0</td>\n",
       "      <td>995.0</td>\n",
       "      <td>1.0</td>\n",
       "    </tr>\n",
       "    <tr>\n",
       "      <th>8</th>\n",
       "      <td>995.0</td>\n",
       "      <td>1050.0</td>\n",
       "      <td>2.0</td>\n",
       "    </tr>\n",
       "    <tr>\n",
       "      <th>9</th>\n",
       "      <td>1050.0</td>\n",
       "      <td>1070.0</td>\n",
       "      <td>1.0</td>\n",
       "    </tr>\n",
       "    <tr>\n",
       "      <th>10</th>\n",
       "      <td>1070.0</td>\n",
       "      <td>1115.0</td>\n",
       "      <td>2.0</td>\n",
       "    </tr>\n",
       "  </tbody>\n",
       "</table>\n",
       "</div>"
      ],
      "text/plain": [
       "     start     end  stress\n",
       "0      0.0   310.0     0.0\n",
       "1    310.0   335.0     1.0\n",
       "2    335.0   560.0     2.0\n",
       "3    560.0   615.0     1.0\n",
       "4    615.0   855.0     0.0\n",
       "5    855.0   905.0     1.0\n",
       "6    905.0   975.0     0.0\n",
       "7    975.0   995.0     1.0\n",
       "8    995.0  1050.0     2.0\n",
       "9   1050.0  1070.0     1.0\n",
       "10  1070.0  1115.0     2.0"
      ]
     },
     "execution_count": 18,
     "metadata": {},
     "output_type": "execute_result"
    }
   ],
   "source": [
    "temp_start = 0\n",
    "temp_end = result[0]\n",
    "\n",
    "stress = []\n",
    "for i in range (len(result)-1):\n",
    "    \n",
    "    temp = df_total.iloc[result[i]:(result[i+1]-1), 49:50].mean()[0]\n",
    "    \n",
    "    if temp > 1.3:\n",
    "        temp = 2.0\n",
    "    elif temp >= .65:\n",
    "        temp = 1\n",
    "    else:\n",
    "        temp = 0\n",
    "\n",
    "    stress.append(temp)\n",
    "    \n",
    "df_temp = pd.DataFrame(columns=['start', 'end', 'stress'])\n",
    "c = 0\n",
    "for i in range(len(result)-1):\n",
    "    stressLength = (result[i+1] - result[i]) / 12\n",
    "\n",
    "    start_point  = result[i]\n",
    "    end_point    = result[i + 1]\n",
    "    stress_value = stress[i]\n",
    "    \n",
    "    if temp_end <= start_point:\n",
    "        temp_end       = end_point\n",
    "        df_temp.loc[c] = [start_point, end_point, stress_value]\n",
    "        c = c +1\n",
    "\n",
    "df_temp"
   ]
  },
  {
   "cell_type": "markdown",
   "metadata": {},
   "source": [
    "## Change event time to datetime"
   ]
  },
  {
   "cell_type": "code",
   "execution_count": null,
   "metadata": {
    "scrolled": true,
    "tags": []
   },
   "outputs": [
    {
     "name": "stdout",
     "output_type": "stream",
     "text": [
      "Prev: 0:25:50 06:00:04 06:25:54 0.0\n",
      "Prev: 0:02:05 06:25:54 06:27:59 1.0\n",
      "Prev: 0:18:45 06:27:59 06:46:44 2.0\n",
      "Prev: 0:04:35 06:46:44 06:51:19 1.0\n",
      "Prev: 0:20:00 06:51:19 07:11:19 0.0\n",
      "Prev: 0:04:10 07:11:19 07:15:29 1.0\n",
      "Prev: 0:05:50 07:15:29 07:21:19 0.0\n",
      "Prev: 0:01:40 07:21:19 07:22:59 1.0\n",
      "Prev: 0:04:35 07:22:59 07:27:34 2.0\n",
      "Prev: 0:01:40 07:27:34 07:29:14 1.0\n",
      "Final: 0:01:40 07:29:14 07:32:59 2.0\n"
     ]
    }
   ],
   "source": [
    "stress_start = 0\n",
    "stress_end = 0\n",
    "tse = 0\n",
    "previous_stress = -1\n",
    "\n",
    "for index, row in df_temp.iterrows():\n",
    "\n",
    "    if row['stress'] == previous_stress:\n",
    "        stress_end = row['end']\n",
    "    else:\n",
    "        if(previous_stress != -1):\n",
    "            start    = datetime.fromtimestamp(reference_time + (stress_start * 5))\n",
    "            end      = datetime.fromtimestamp(reference_time + (stress_end * 5))\n",
    "            timediff = end - start\n",
    "            print('Prev:', timediff, datetime.fromtimestamp(reference_time + (stress_start * 5)).strftime('%H:%M:%S'), datetime.fromtimestamp(reference_time + (stress_end * 5)).strftime('%H:%M:%S'), previous_stress)\n",
    "        \n",
    "        stress_start    = row['start']\n",
    "        stress_end      = row['end']\n",
    "        previous_stress = row['stress']\n",
    "        \n",
    "print('Final:', timediff, datetime.fromtimestamp(reference_time + (stress_start * 5)).strftime('%H:%M:%S'), datetime.fromtimestamp(reference_time + (stress_end * 5)).strftime('%H:%M:%S'), previous_stress)"
   ]
  }
 ],
 "metadata": {
  "kernelspec": {
   "display_name": "Python 3 (ipykernel)",
   "language": "python",
   "name": "python3"
  },
  "language_info": {
   "codemirror_mode": {
    "name": "ipython",
    "version": 3
   },
   "file_extension": ".py",
   "mimetype": "text/x-python",
   "name": "python",
   "nbconvert_exporter": "python",
   "pygments_lexer": "ipython3",
   "version": "3.11.5"
  }
 },
 "nbformat": 4,
 "nbformat_minor": 4
}
